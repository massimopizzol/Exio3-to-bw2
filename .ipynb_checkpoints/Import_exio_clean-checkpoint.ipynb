{
 "cells": [
  {
   "cell_type": "markdown",
   "metadata": {},
   "source": [
    "## Import exiobase3 in brightway2\n",
    "by Massimo Pizzol, Jan19"
   ]
  },
  {
   "cell_type": "code",
   "execution_count": 1,
   "metadata": {},
   "outputs": [],
   "source": [
    "import pandas as pd\n",
    "import numpy as np\n",
    "from pyxlsb import open_workbook as open_xlsb\n",
    "from brightway2 import *"
   ]
  },
  {
   "cell_type": "code",
<<<<<<< HEAD
   "execution_count": 14,
=======
   "execution_count": 2,
>>>>>>> b643664e8ad5a19f7dc490ded00592e319a411fa
   "metadata": {},
   "outputs": [
    {
     "name": "stdout",
     "output_type": "stream",
     "text": [
<<<<<<< HEAD
      "kwargs: {} <class 'dict'>\n",
      "name: test_exio3_import <class 'str'>\n",
      "Creating default biosphere\n",
      "\n"
     ]
    },
    {
     "name": "stderr",
     "output_type": "stream",
     "text": [
      "Writing activities to SQLite3 database:\n",
      "0%                          100%\n",
      "[##########                    ] | ETA: 00:00:00"
     ]
    },
    {
     "name": "stdout",
     "output_type": "stream",
     "text": [
      "Applying strategy: normalize_units\n",
      "Applying strategy: drop_unspecified_subcategories\n",
      "Applied 2 strategies in 0.01 seconds\n"
     ]
    },
    {
     "name": "stderr",
     "output_type": "stream",
     "text": [
      "[##############################] | ETA: 00:00:00\n",
      "Total time elapsed: 00:00:00\n"
     ]
    },
    {
     "name": "stdout",
     "output_type": "stream",
     "text": [
      "Title: Writing activities to SQLite3 database:\n",
      "  Started: 01/08/2019 14:51:00\n",
      "  Finished: 01/08/2019 14:51:01\n",
      "  Total time elapsed: 00:00:00\n",
      "  CPU %: 98.50\n",
      "  Memory %: 0.91\n",
      "Created database: biosphere3\n",
      "Creating default LCIA methods\n",
      "\n",
      "Applying strategy: normalize_units\n",
      "Applying strategy: set_biosphere_type\n",
      "Applying strategy: drop_unspecified_subcategories\n",
      "Applying strategy: link_iterable_by_fields\n",
      "Applied 4 strategies in 1.07 seconds\n",
      "Wrote 718 LCIA methods with 178008 characterization factors\n",
      "Creating core data migrations\n",
      "\n"
=======
      "Biosphere database already present!!! No setup is needed\n"
>>>>>>> b643664e8ad5a19f7dc490ded00592e319a411fa
     ]
    }
   ],
   "source": [
    "projects.set_current('test_exio3_import')\n",
    "bw2setup() # need to import biosphere3"
   ]
  },
  {
   "cell_type": "code",
   "execution_count": 15,
   "metadata": {},
   "outputs": [],
   "source": [
    "#this takes some minutes, but seems the only way to import xlsb files in python\n",
    "HIO_Arr = []\n",
    "with open_xlsb(\"exiobase_3.3.15_hsut_2011/Exiobase_MR_HIOT_2011_v3_3_15_by_prod_tech.xlsb\") as wb:\n",
    "        # Read the sheet to array first and convert to pandas first for quick access\n",
    "        with wb.get_sheet(2) as sheet:\n",
    "            for row in sheet.rows(sparse = True):\n",
    "                #print(row[0])\n",
    "                vals = [item.v for item in row]\n",
    "                HIO_Arr.append(vals)\n",
    "\n",
    "HIO = pd.DataFrame(HIO_Arr)"
   ]
  },
  {
   "cell_type": "code",
   "execution_count": 16,
   "metadata": {},
   "outputs": [
    {
     "data": {
      "text/html": [
       "<div>\n",
       "<style scoped>\n",
       "    .dataframe tbody tr th:only-of-type {\n",
       "        vertical-align: middle;\n",
       "    }\n",
       "\n",
       "    .dataframe tbody tr th {\n",
       "        vertical-align: top;\n",
       "    }\n",
       "\n",
       "    .dataframe thead th {\n",
       "        text-align: right;\n",
       "    }\n",
       "</style>\n",
       "<table border=\"1\" class=\"dataframe\">\n",
       "  <thead>\n",
       "    <tr style=\"text-align: right;\">\n",
       "      <th></th>\n",
       "      <th>AU-c01.a-P_PARI</th>\n",
       "      <th>AU-c01.b-P_WHEA</th>\n",
       "      <th>AU-c01.c-P_OCER</th>\n",
       "      <th>AU-c01.d-P_FVEG</th>\n",
       "      <th>AU-c01.e-P_OILS</th>\n",
       "      <th>AU-c01.f-P_SUGB</th>\n",
       "      <th>AU-c01.g-P_FIBR</th>\n",
       "      <th>AU-c01.h-P_OTCR</th>\n",
       "      <th>AU-c01.i-P_CATL</th>\n",
       "      <th>AU-c01.j-P_PIGS</th>\n",
       "      <th>...</th>\n",
       "      <th>WM-c90.5.b-P_LANP</th>\n",
       "      <th>WM-c90.5.c-P_LANL</th>\n",
       "      <th>WM-c90.5.d-P_LANI</th>\n",
       "      <th>WM-c90.5.e-P_LANT</th>\n",
       "      <th>WM-c90.5.f-P_LANW</th>\n",
       "      <th>WM-c91-P_ORGA</th>\n",
       "      <th>WM-c92-P_RECR</th>\n",
       "      <th>WM-c93-P_OSER</th>\n",
       "      <th>WM-c95-P_PRHH</th>\n",
       "      <th>WM-c99-P_EXTO</th>\n",
       "    </tr>\n",
       "  </thead>\n",
       "  <tbody>\n",
       "    <tr>\n",
       "      <th>AU-c01.a-P_PARI</th>\n",
       "      <td>0</td>\n",
       "      <td>0</td>\n",
       "      <td>0</td>\n",
       "      <td>0</td>\n",
       "      <td>0</td>\n",
       "      <td>0</td>\n",
       "      <td>0</td>\n",
       "      <td>0</td>\n",
       "      <td>0</td>\n",
       "      <td>0</td>\n",
       "      <td>...</td>\n",
       "      <td>0</td>\n",
       "      <td>0</td>\n",
       "      <td>0</td>\n",
       "      <td>0</td>\n",
       "      <td>0</td>\n",
       "      <td>0</td>\n",
       "      <td>0</td>\n",
       "      <td>0</td>\n",
       "      <td>0</td>\n",
       "      <td>0</td>\n",
       "    </tr>\n",
       "    <tr>\n",
       "      <th>AU-c01.b-P_WHEA</th>\n",
       "      <td>0</td>\n",
       "      <td>0</td>\n",
       "      <td>0</td>\n",
       "      <td>0</td>\n",
       "      <td>0</td>\n",
       "      <td>0</td>\n",
       "      <td>0</td>\n",
       "      <td>0</td>\n",
       "      <td>678333</td>\n",
       "      <td>155894</td>\n",
       "      <td>...</td>\n",
       "      <td>0</td>\n",
       "      <td>0</td>\n",
       "      <td>0</td>\n",
       "      <td>0</td>\n",
       "      <td>0</td>\n",
       "      <td>0</td>\n",
       "      <td>0</td>\n",
       "      <td>0</td>\n",
       "      <td>0</td>\n",
       "      <td>0</td>\n",
       "    </tr>\n",
       "    <tr>\n",
       "      <th>AU-c01.c-P_OCER</th>\n",
       "      <td>0</td>\n",
       "      <td>0</td>\n",
       "      <td>109422</td>\n",
       "      <td>0</td>\n",
       "      <td>0</td>\n",
       "      <td>0</td>\n",
       "      <td>0</td>\n",
       "      <td>0</td>\n",
       "      <td>2.27671e+06</td>\n",
       "      <td>823210</td>\n",
       "      <td>...</td>\n",
       "      <td>0</td>\n",
       "      <td>0</td>\n",
       "      <td>0</td>\n",
       "      <td>0</td>\n",
       "      <td>0</td>\n",
       "      <td>0</td>\n",
       "      <td>0</td>\n",
       "      <td>0</td>\n",
       "      <td>0</td>\n",
       "      <td>0</td>\n",
       "    </tr>\n",
       "    <tr>\n",
       "      <th>AU-c01.d-P_FVEG</th>\n",
       "      <td>0</td>\n",
       "      <td>0</td>\n",
       "      <td>0</td>\n",
       "      <td>77617</td>\n",
       "      <td>0</td>\n",
       "      <td>0</td>\n",
       "      <td>0</td>\n",
       "      <td>0</td>\n",
       "      <td>1546.66</td>\n",
       "      <td>254.436</td>\n",
       "      <td>...</td>\n",
       "      <td>0</td>\n",
       "      <td>0</td>\n",
       "      <td>0</td>\n",
       "      <td>0</td>\n",
       "      <td>0</td>\n",
       "      <td>0</td>\n",
       "      <td>0</td>\n",
       "      <td>0</td>\n",
       "      <td>0</td>\n",
       "      <td>0</td>\n",
       "    </tr>\n",
       "    <tr>\n",
       "      <th>AU-c01.e-P_OILS</th>\n",
       "      <td>0</td>\n",
       "      <td>0</td>\n",
       "      <td>0</td>\n",
       "      <td>0</td>\n",
       "      <td>0</td>\n",
       "      <td>0</td>\n",
       "      <td>-955759</td>\n",
       "      <td>0</td>\n",
       "      <td>0</td>\n",
       "      <td>0</td>\n",
       "      <td>...</td>\n",
       "      <td>0</td>\n",
       "      <td>0</td>\n",
       "      <td>0</td>\n",
       "      <td>0</td>\n",
       "      <td>0</td>\n",
       "      <td>0</td>\n",
       "      <td>0</td>\n",
       "      <td>0</td>\n",
       "      <td>0</td>\n",
       "      <td>0</td>\n",
       "    </tr>\n",
       "  </tbody>\n",
       "</table>\n",
       "<p>5 rows × 7872 columns</p>\n",
       "</div>"
      ],
      "text/plain": [
       "                AU-c01.a-P_PARI AU-c01.b-P_WHEA AU-c01.c-P_OCER  \\\n",
       "AU-c01.a-P_PARI               0               0               0   \n",
       "AU-c01.b-P_WHEA               0               0               0   \n",
       "AU-c01.c-P_OCER               0               0          109422   \n",
       "AU-c01.d-P_FVEG               0               0               0   \n",
       "AU-c01.e-P_OILS               0               0               0   \n",
       "\n",
       "                AU-c01.d-P_FVEG AU-c01.e-P_OILS AU-c01.f-P_SUGB  \\\n",
       "AU-c01.a-P_PARI               0               0               0   \n",
       "AU-c01.b-P_WHEA               0               0               0   \n",
       "AU-c01.c-P_OCER               0               0               0   \n",
       "AU-c01.d-P_FVEG           77617               0               0   \n",
       "AU-c01.e-P_OILS               0               0               0   \n",
       "\n",
       "                AU-c01.g-P_FIBR AU-c01.h-P_OTCR AU-c01.i-P_CATL  \\\n",
       "AU-c01.a-P_PARI               0               0               0   \n",
       "AU-c01.b-P_WHEA               0               0          678333   \n",
       "AU-c01.c-P_OCER               0               0     2.27671e+06   \n",
       "AU-c01.d-P_FVEG               0               0         1546.66   \n",
       "AU-c01.e-P_OILS         -955759               0               0   \n",
       "\n",
       "                AU-c01.j-P_PIGS      ...      WM-c90.5.b-P_LANP  \\\n",
       "AU-c01.a-P_PARI               0      ...                      0   \n",
       "AU-c01.b-P_WHEA          155894      ...                      0   \n",
       "AU-c01.c-P_OCER          823210      ...                      0   \n",
       "AU-c01.d-P_FVEG         254.436      ...                      0   \n",
       "AU-c01.e-P_OILS               0      ...                      0   \n",
       "\n",
       "                WM-c90.5.c-P_LANL WM-c90.5.d-P_LANI WM-c90.5.e-P_LANT  \\\n",
       "AU-c01.a-P_PARI                 0                 0                 0   \n",
       "AU-c01.b-P_WHEA                 0                 0                 0   \n",
       "AU-c01.c-P_OCER                 0                 0                 0   \n",
       "AU-c01.d-P_FVEG                 0                 0                 0   \n",
       "AU-c01.e-P_OILS                 0                 0                 0   \n",
       "\n",
       "                WM-c90.5.f-P_LANW WM-c91-P_ORGA WM-c92-P_RECR WM-c93-P_OSER  \\\n",
       "AU-c01.a-P_PARI                 0             0             0             0   \n",
       "AU-c01.b-P_WHEA                 0             0             0             0   \n",
       "AU-c01.c-P_OCER                 0             0             0             0   \n",
       "AU-c01.d-P_FVEG                 0             0             0             0   \n",
       "AU-c01.e-P_OILS                 0             0             0             0   \n",
       "\n",
       "                WM-c95-P_PRHH WM-c99-P_EXTO  \n",
       "AU-c01.a-P_PARI             0             0  \n",
       "AU-c01.b-P_WHEA             0             0  \n",
       "AU-c01.c-P_OCER             0             0  \n",
       "AU-c01.d-P_FVEG             0             0  \n",
       "AU-c01.e-P_OILS             0             0  \n",
       "\n",
       "[5 rows x 7872 columns]"
      ]
     },
     "execution_count": 16,
     "metadata": {},
     "output_type": "execute_result"
    }
   ],
   "source": [
    "# create some unique activity IDs ('country-code1-code2', e.g. 'AU-c01.i-P_CATL')\n",
    "exio_IDs = HIO.iloc[4:, 0].values + \"-\" + HIO.iloc[4:, 2].values + \"-\" + HIO.iloc[4:, 3].values \n",
    "n_act = len(exio_IDs)\n",
    "\n",
    "# other metadata\n",
    "exio_countries = HIO.iloc[4:, 0].values # lists\n",
    "exio_names = HIO.iloc[4:, 1].values\n",
    "exio_codes1 = HIO.iloc[4:, 2].values \n",
    "exio_codes2 = HIO.iloc[4:, 3].values \n",
    "exio_units = HIO.iloc[4:, 4].values\n",
    "\n",
    "# just the simplest IO table with only column names and row names, used just below for filtering of zero values\n",
    "exio_data = HIO.iloc[4:, 5:] # pandas dataframe\n",
    "exio_data.columns = exio_IDs\n",
    "exio_data.index = exio_IDs\n",
    "exio_data.head()"
   ]
  },
  {
   "cell_type": "code",
   "execution_count": 17,
   "metadata": {},
   "outputs": [],
   "source": [
    "# filter out the zero values in the database\n",
    "d = {c : exio_data.loc[exio_data[c] !=0 , c] for c in exio_IDs } # creates a dict with name, df with values != 0"
   ]
  },
  {
   "cell_type": "code",
   "execution_count": 18,
   "metadata": {},
   "outputs": [],
   "source": [
    "db_name = 'exio3HIO'\n",
    "if db_name in databases:\n",
    "    del databases[db_name]  #just to make sure there isnt another one"
   ]
  },
  {
   "cell_type": "code",
   "execution_count": 19,
   "metadata": {},
   "outputs": [],
   "source": [
    "# Create the database as a dict (didn't take long).\n",
    "data = [{\n",
    "        'name': exio_names[i],\n",
    "        'code': exio_IDs[i],\n",
    "        'key': (db_name, exio_IDs[i]),\n",
    "        'exiobase_code1': exio_codes1[i],\n",
    "        'exiobase_code2': exio_codes2[i],\n",
    "        'database': db_name,\n",
    "        'location': exio_countries[i],\n",
    "        'unit': exio_units[i],\n",
    "        'type': 'process',\n",
    "        'exchanges': [{\n",
    "                'input': (db_name, d[exio_IDs[i]].index[j]),\n",
    "                'amount': d[exio_IDs[i]][j],\n",
    "                'type': 'technosphere'\n",
    "            }\n",
    "        for j in range(d[exio_IDs[i]].shape[0])]\n",
    "    } for i in range(n_act)]\n",
    "\n",
    "exio_d = {obj['key']: obj for obj in data}"
   ]
  },
  {
   "cell_type": "code",
   "execution_count": 20,
   "metadata": {
    "scrolled": false
   },
   "outputs": [
    {
     "name": "stderr",
     "output_type": "stream",
     "text": [
      "Writing activities to SQLite3 database:\n",
      "0%                          100%\n",
      "[##############################] | ETA: 00:00:00\n",
      "Total time elapsed: 00:16:13\n"
     ]
    },
    {
     "name": "stdout",
     "output_type": "stream",
     "text": [
      "Title: Writing activities to SQLite3 database:\n",
      "  Started: 01/08/2019 15:12:37\n",
      "  Finished: 01/08/2019 15:28:51\n",
      "  Total time elapsed: 00:16:13\n",
      "  CPU %: 96.00\n",
      "  Memory %: 43.27\n"
     ]
    }
   ],
   "source": [
    "# This takes time! 15 min on my mac\n",
    "# write the entire IO table\n",
    "exio3 = Database(db_name)\n",
    "exio3.write(exio_d)"
   ]
  },
  {
   "cell_type": "code",
   "execution_count": 22,
   "metadata": {},
   "outputs": [
    {
     "name": "stdout",
     "output_type": "stream",
     "text": [
      "Exchange: 678332.8470145611 tonnes 'Cultivation of wheat' (tonnes, AU, None) to 'Cattle farming' (tonnes, AU, None)>\n",
      "Exchange: 2276711.5604753764 tonnes 'Cultivation of cereal grains nec' (tonnes, AU, None) to 'Cattle farming' (tonnes, AU, None)>\n",
      "Exchange: 1546.661506585483 tonnes 'Cultivation of vegetables, fruit, nuts' (tonnes, AU, None) to 'Cattle farming' (tonnes, AU, None)>\n",
      "Exchange: 19355.104385711475 tonnes 'Cattle farming' (tonnes, AU, None) to 'Cattle farming' (tonnes, AU, None)>\n"
     ]
    }
   ],
   "source": [
    "# check if it's alright\n",
    "myact = exio3.get('AU-c01.i-P_CATL')\n",
    "for exc in list(myact.exchanges())[0:4]:\n",
    "        print(exc)\n",
    "# seems alright"
   ]
  },
  {
   "cell_type": "code",
   "execution_count": 23,
   "metadata": {},
   "outputs": [],
   "source": [
    "# Import principal production vector from xlsb file (fast)\n",
    "PPV_Arr = []\n",
    "with open_xlsb(\"exiobase_3.3.15_hsut_2011/Exiobase_MR_HIOT_2011_v3_3_15_by_prod_tech.xlsb\") as wb:\n",
    "        # Read the sheet to array first and convert to pandas first for quick access\n",
    "        with wb.get_sheet(3) as sheet:\n",
    "            for row in sheet.rows(sparse = True):\n",
    "                #print(row[0])\n",
    "                vals = [item.v for item in row]\n",
    "                PPV_Arr.append(vals)\n",
    "                \n",
    "PPV = pd.DataFrame(PPV_Arr)\n",
    "p_prod = PPV.iloc[5,1:] # just the numeric values\n",
    "p_prod.index = exio_IDs"
   ]
  },
  {
   "cell_type": "code",
   "execution_count": 25,
   "metadata": {},
   "outputs": [],
   "source": [
    "# set the principal production as reference flow for each activity (type = production)\n",
    "for act in exio3: \n",
    "    exc = act.new_exchange(input = (db_name, act['code']), amount = p_prod[act['code']], unit = act['unit'], type = 'production')\n",
    "    exc.save()"
   ]
  },
  {
   "cell_type": "code",
   "execution_count": 26,
   "metadata": {},
   "outputs": [
    {
     "name": "stdout",
     "output_type": "stream",
     "text": [
      "Exchange: 1145042.8284939448 tonnes 'Cattle farming' (tonnes, AU, None) to 'Cattle farming' (tonnes, AU, None)>\n"
     ]
    }
   ],
   "source": [
    "# check if it's alright\n",
    "myact = exio3.get('AU-c01.i-P_CATL')\n",
    "for exc in list(myact.exchanges()):\n",
    "    if exc['type'] == 'production':\n",
    "        print(exc)\n",
    "# seems alright"
   ]
  },
  {
   "cell_type": "code",
<<<<<<< HEAD
   "execution_count": 27,
=======
   "execution_count": 101,
>>>>>>> b643664e8ad5a19f7dc490ded00592e319a411fa
   "metadata": {},
   "outputs": [
    {
     "data": {
      "text/html": [
       "<div>\n",
       "<style scoped>\n",
       "    .dataframe tbody tr th:only-of-type {\n",
       "        vertical-align: middle;\n",
       "    }\n",
       "\n",
       "    .dataframe tbody tr th {\n",
       "        vertical-align: top;\n",
       "    }\n",
       "\n",
       "    .dataframe thead th {\n",
       "        text-align: right;\n",
       "    }\n",
       "</style>\n",
       "<table border=\"1\" class=\"dataframe\">\n",
       "  <thead>\n",
       "    <tr style=\"text-align: right;\">\n",
       "      <th></th>\n",
       "      <th>0</th>\n",
       "      <th>1</th>\n",
       "      <th>2</th>\n",
       "      <th>3</th>\n",
       "      <th>4</th>\n",
       "      <th>5</th>\n",
       "      <th>6</th>\n",
       "      <th>7</th>\n",
       "      <th>8</th>\n",
       "      <th>9</th>\n",
       "      <th>...</th>\n",
       "      <th>7865</th>\n",
       "      <th>7866</th>\n",
       "      <th>7867</th>\n",
       "      <th>7868</th>\n",
       "      <th>7869</th>\n",
       "      <th>7870</th>\n",
       "      <th>7871</th>\n",
       "      <th>7872</th>\n",
       "      <th>7873</th>\n",
       "      <th>7874</th>\n",
       "    </tr>\n",
       "  </thead>\n",
       "  <tbody>\n",
       "    <tr>\n",
       "      <th>0</th>\n",
       "      <td>None</td>\n",
       "      <td>None</td>\n",
       "      <td>None</td>\n",
       "      <td>AU</td>\n",
       "      <td>AU</td>\n",
       "      <td>AU</td>\n",
       "      <td>AU</td>\n",
       "      <td>AU</td>\n",
       "      <td>AU</td>\n",
       "      <td>AU</td>\n",
       "      <td>...</td>\n",
       "      <td>WM</td>\n",
       "      <td>WM</td>\n",
       "      <td>WM</td>\n",
       "      <td>WM</td>\n",
       "      <td>WM</td>\n",
       "      <td>WM</td>\n",
       "      <td>WM</td>\n",
       "      <td>WM</td>\n",
       "      <td>WM</td>\n",
       "      <td>WM</td>\n",
       "    </tr>\n",
       "    <tr>\n",
       "      <th>1</th>\n",
       "      <td>None</td>\n",
       "      <td>None</td>\n",
       "      <td>None</td>\n",
       "      <td>Cultivation of paddy rice</td>\n",
       "      <td>Cultivation of wheat</td>\n",
       "      <td>Cultivation of cereal grains nec</td>\n",
       "      <td>Cultivation of vegetables, fruit, nuts</td>\n",
       "      <td>Cultivation of oil seeds</td>\n",
       "      <td>Cultivation of sugar cane, sugar beet</td>\n",
       "      <td>Cultivation of plant-based fibers</td>\n",
       "      <td>...</td>\n",
       "      <td>Landfill of waste: Paper</td>\n",
       "      <td>Landfill of waste: Plastic</td>\n",
       "      <td>Landfill of waste: Inert/metal/hazardous</td>\n",
       "      <td>Landfill of waste: Textiles</td>\n",
       "      <td>Landfill of waste: Wood</td>\n",
       "      <td>Activities of membership organisation n.e.c. (91)</td>\n",
       "      <td>Recreational, cultural and sporting activities...</td>\n",
       "      <td>Other service activities (93)</td>\n",
       "      <td>Private households with employed persons (95)</td>\n",
       "      <td>Extra-territorial organizations and bodies</td>\n",
       "    </tr>\n",
       "    <tr>\n",
       "      <th>2</th>\n",
       "      <td>None</td>\n",
       "      <td>None</td>\n",
       "      <td>None</td>\n",
       "      <td>i01.a</td>\n",
       "      <td>i01.b</td>\n",
       "      <td>i01.c</td>\n",
       "      <td>i01.d</td>\n",
       "      <td>i01.e</td>\n",
       "      <td>i01.f</td>\n",
       "      <td>i01.g</td>\n",
       "      <td>...</td>\n",
       "      <td>i90.5.b</td>\n",
       "      <td>i90.5.c</td>\n",
       "      <td>i90.5.d</td>\n",
       "      <td>i90.5.e</td>\n",
       "      <td>i90.5.f</td>\n",
       "      <td>i91</td>\n",
       "      <td>i92</td>\n",
       "      <td>i93</td>\n",
       "      <td>i95</td>\n",
       "      <td>i99</td>\n",
       "    </tr>\n",
       "    <tr>\n",
       "      <th>3</th>\n",
       "      <td>None</td>\n",
       "      <td>None</td>\n",
       "      <td>None</td>\n",
       "      <td>A_PARI</td>\n",
       "      <td>A_WHEA</td>\n",
       "      <td>A_OCER</td>\n",
       "      <td>A_FVEG</td>\n",
       "      <td>A_OILS</td>\n",
       "      <td>A_SUGB</td>\n",
       "      <td>A_FIBR</td>\n",
       "      <td>...</td>\n",
       "      <td>A_LANP</td>\n",
       "      <td>A_LANL</td>\n",
       "      <td>A_LANI</td>\n",
       "      <td>A_LANT</td>\n",
       "      <td>A_LANW</td>\n",
       "      <td>A_ORGA</td>\n",
       "      <td>A_RECR</td>\n",
       "      <td>A_OSER</td>\n",
       "      <td>A_PRHH</td>\n",
       "      <td>A_EXTO</td>\n",
       "    </tr>\n",
       "    <tr>\n",
       "      <th>4</th>\n",
       "      <td>Carbon dioxide, fossil</td>\n",
       "      <td>tonnes</td>\n",
       "      <td>air</td>\n",
       "      <td>28333.4</td>\n",
       "      <td>1.64288e+06</td>\n",
       "      <td>399460</td>\n",
       "      <td>188343</td>\n",
       "      <td>72481.9</td>\n",
       "      <td>70129.7</td>\n",
       "      <td>129804</td>\n",
       "      <td>...</td>\n",
       "      <td>107.655</td>\n",
       "      <td>857.972</td>\n",
       "      <td>417.751</td>\n",
       "      <td>2976.82</td>\n",
       "      <td>18.7294</td>\n",
       "      <td>7.73808e+06</td>\n",
       "      <td>6.56843e+06</td>\n",
       "      <td>1.72631e+06</td>\n",
       "      <td>6.51238e+06</td>\n",
       "      <td>0</td>\n",
       "    </tr>\n",
       "    <tr>\n",
       "      <th>5</th>\n",
       "      <td>N2O</td>\n",
       "      <td>tonnes</td>\n",
       "      <td>air</td>\n",
       "      <td>44.0359</td>\n",
       "      <td>9494.75</td>\n",
       "      <td>3888.77</td>\n",
       "      <td>8401.16</td>\n",
       "      <td>465.883</td>\n",
       "      <td>1159.71</td>\n",
       "      <td>1166.56</td>\n",
       "      <td>...</td>\n",
       "      <td>0</td>\n",
       "      <td>0</td>\n",
       "      <td>0</td>\n",
       "      <td>0</td>\n",
       "      <td>0</td>\n",
       "      <td>0</td>\n",
       "      <td>0</td>\n",
       "      <td>0</td>\n",
       "      <td>0</td>\n",
       "      <td>0</td>\n",
       "    </tr>\n",
       "  </tbody>\n",
       "</table>\n",
       "<p>6 rows × 7875 columns</p>\n",
       "</div>"
      ],
      "text/plain": [
       "                     0       1     2                          3     \\\n",
       "0                    None    None  None                         AU   \n",
       "1                    None    None  None  Cultivation of paddy rice   \n",
       "2                    None    None  None                      i01.a   \n",
       "3                    None    None  None                     A_PARI   \n",
       "4  Carbon dioxide, fossil  tonnes   air                    28333.4   \n",
       "5                     N2O  tonnes   air                    44.0359   \n",
       "\n",
       "                   4                                 5     \\\n",
       "0                    AU                                AU   \n",
       "1  Cultivation of wheat  Cultivation of cereal grains nec   \n",
       "2                 i01.b                             i01.c   \n",
       "3                A_WHEA                            A_OCER   \n",
       "4           1.64288e+06                            399460   \n",
       "5               9494.75                           3888.77   \n",
       "\n",
       "                                     6                         7     \\\n",
       "0                                      AU                        AU   \n",
       "1  Cultivation of vegetables, fruit, nuts  Cultivation of oil seeds   \n",
       "2                                   i01.d                     i01.e   \n",
       "3                                  A_FVEG                    A_OILS   \n",
       "4                                  188343                   72481.9   \n",
       "5                                 8401.16                   465.883   \n",
       "\n",
       "                                    8                                  9     \\\n",
       "0                                     AU                                 AU   \n",
       "1  Cultivation of sugar cane, sugar beet  Cultivation of plant-based fibers   \n",
       "2                                  i01.f                              i01.g   \n",
       "3                                 A_SUGB                             A_FIBR   \n",
       "4                                70129.7                             129804   \n",
       "5                                1159.71                            1166.56   \n",
       "\n",
       "                      ...                                          7865  \\\n",
       "0                     ...                                            WM   \n",
       "1                     ...                      Landfill of waste: Paper   \n",
       "2                     ...                                       i90.5.b   \n",
       "3                     ...                                        A_LANP   \n",
       "4                     ...                                       107.655   \n",
       "5                     ...                                             0   \n",
       "\n",
       "                         7866                                      7867  \\\n",
       "0                          WM                                        WM   \n",
       "1  Landfill of waste: Plastic  Landfill of waste: Inert/metal/hazardous   \n",
       "2                     i90.5.c                                   i90.5.d   \n",
       "3                      A_LANL                                    A_LANI   \n",
       "4                     857.972                                   417.751   \n",
       "5                           0                                         0   \n",
       "\n",
       "                          7868                     7869  \\\n",
       "0                           WM                       WM   \n",
       "1  Landfill of waste: Textiles  Landfill of waste: Wood   \n",
       "2                      i90.5.e                  i90.5.f   \n",
       "3                       A_LANT                   A_LANW   \n",
       "4                      2976.82                  18.7294   \n",
       "5                            0                        0   \n",
       "\n",
       "                                                7870  \\\n",
       "0                                                 WM   \n",
       "1  Activities of membership organisation n.e.c. (91)   \n",
       "2                                                i91   \n",
       "3                                             A_ORGA   \n",
       "4                                        7.73808e+06   \n",
       "5                                                  0   \n",
       "\n",
       "                                                7871  \\\n",
       "0                                                 WM   \n",
       "1  Recreational, cultural and sporting activities...   \n",
       "2                                                i92   \n",
       "3                                             A_RECR   \n",
       "4                                        6.56843e+06   \n",
       "5                                                  0   \n",
       "\n",
       "                            7872  \\\n",
       "0                             WM   \n",
       "1  Other service activities (93)   \n",
       "2                            i93   \n",
       "3                         A_OSER   \n",
       "4                    1.72631e+06   \n",
       "5                              0   \n",
       "\n",
       "                                            7873  \\\n",
       "0                                             WM   \n",
       "1  Private households with employed persons (95)   \n",
       "2                                            i95   \n",
       "3                                         A_PRHH   \n",
       "4                                    6.51238e+06   \n",
       "5                                              0   \n",
       "\n",
       "                                         7874  \n",
       "0                                          WM  \n",
       "1  Extra-territorial organizations and bodies  \n",
       "2                                         i99  \n",
       "3                                      A_EXTO  \n",
       "4                                           0  \n",
       "5                                           0  \n",
       "\n",
       "[6 rows x 7875 columns]"
      ]
     },
<<<<<<< HEAD
     "execution_count": 27,
=======
     "execution_count": 101,
>>>>>>> b643664e8ad5a19f7dc490ded00592e319a411fa
     "metadata": {},
     "output_type": "execute_result"
    }
   ],
   "source": [
    "# import data from the extensions file, but just the emissions for this test\n",
    "ArrExt_emiss = []\n",
<<<<<<< HEAD
    "with open_xlsb('exiobase_3.3.15_hsut_2011/MR_HSUT_2011_v3_3_15_extensions.xlsb') as wb:\n",
=======
    "with open_xlsb(r'C:\\Users\\ros\\Documents\\MR_HSUT_2011_v3_3_15_extensions.xlsb') as wb:\n",
>>>>>>> b643664e8ad5a19f7dc490ded00592e319a411fa
    "        # Read the sheet to array first and convert to pandas first for quick access\n",
    "        with wb.get_sheet('Emiss_act') as sheet:\n",
    "            for row in sheet.rows(sparse = True):\n",
    "                #print(row[0])\n",
    "                vals = [item.v for item in row]\n",
    "                ArrExt_emiss.append(vals)\n",
    "                \n",
    "Ext_emiss = pd.DataFrame(ArrExt_emiss)\n",
    "Ext_emiss.head(6)"
   ]
  },
  {
   "cell_type": "code",
<<<<<<< HEAD
   "execution_count": null,
   "metadata": {},
   "outputs": [],
   "source": [
    "## method 1"
   ]
  },
  {
   "cell_type": "code",
   "execution_count": null,
   "metadata": {},
   "outputs": [],
   "source": [
    "## The part below is to import only 3 emissions. It is faster."
=======
   "execution_count": 102,
   "metadata": {},
   "outputs": [
    {
     "name": "stdout",
     "output_type": "stream",
     "text": [
      "No match for Chlordane.\n",
      "No match for Chlordecone.\n",
      "No match for Dieldrin.\n",
      "No match for Endrin.\n",
      "No match for Heptachlor.\n",
      "No match for Hexabr.-biph..\n",
      "No match for Mirex.\n",
      "No match for Toxaphene.\n",
      "No match for HCH.\n",
      "No match for DDT.\n",
      "No match for PCB.\n",
      "No match for PBDEs.\n",
      "No match for Benzo-[k]-fluoranthene.\n",
      "No match for HCB.\n",
      "No match for PCDD/F (dioxins and furans).\n",
      "No match for TSP (total suspended particulate).\n",
      "No match for C.\n",
      "No match for other emissions.\n",
      "No match for Other emissions nec.\n"
     ]
    }
   ],
   "source": [
    "#Import mapping file to match Exiobase flows to BW2 ones.\n",
    "df_flow_map = pd.read_csv(\"list_biosphere_flows_BW2.csv\")\n",
    "def find_flow(row):\n",
    "    if row!=None:\n",
    "        try:\n",
    "            return df_flow_map.loc[df_flow_map[\"Exiobase name\"]==row, \"code\"].values[0]\n",
    "        except:\n",
    "            print(\"No match for {}.\".format(row))     \n",
    "Ext_emiss.iloc[:, 0] = Ext_emiss.iloc[:, 0].apply(find_flow)"
>>>>>>> b643664e8ad5a19f7dc490ded00592e319a411fa
   ]
  },
  {
   "cell_type": "code",
<<<<<<< HEAD
   "execution_count": null,
=======
   "execution_count": 29,
>>>>>>> b643664e8ad5a19f7dc490ded00592e319a411fa
   "metadata": {},
   "outputs": [],
   "source": [
    "# I have only manually found these three ones for now, will have to do the same work for the remaining ones\n",
    "#emission_codes = {'Carbon dioxide, fossil': 'aa7cac3a-3625-41d4-bc54-33e2cf11ec46',\n",
    "#                  'N2O':'afd6d670-bbb0-4625-9730-04088a5b035e',\n",
    "#                  'CH4':'70ef743b-3ed5-4a6d-b192-fb6d62378555'}"
   ]
  },
  {
   "cell_type": "code",
<<<<<<< HEAD
   "execution_count": null,
   "metadata": {},
   "outputs": [],
   "source": [
    "# Again some formatting necessary for the next step\n",
    "#Ext_emiss_s = Ext_emiss.iloc[4:7,3:]\n",
    "#Ext_emiss_s.columns = [exio_IDs]\n",
    "#Ext_emiss_s.index = list(emission_codes.values())\n",
    "#Ext_emiss_s.head()"
   ]
  },
  {
   "cell_type": "code",
   "execution_count": null,
   "metadata": {},
   "outputs": [],
   "source": [
    "# Add biosphere3 flows to the database\n",
    "#for act in exio3:\n",
    "#    for i in range(Ext_emiss_s[act['code']].shape[0]):\n",
    "#        exc = act.new_exchange(input = ('biosphere3', Ext_emiss_s[act['code']].index[i]), amount = float(Ext_emiss_s[act['code']].iloc[i].values)*1000, type = 'biosphere')\n",
    "#        exc.save()"
   ]
  },
  {
   "cell_type": "code",
   "execution_count": null,
   "metadata": {},
   "outputs": [],
   "source": [
    "# End of method 1"
   ]
  },
  {
   "cell_type": "code",
   "execution_count": null,
   "metadata": {},
   "outputs": [],
   "source": [
    "## method 2"
   ]
  },
  {
   "cell_type": "code",
   "execution_count": null,
   "metadata": {},
   "outputs": [],
   "source": [
    "## This below imports all emissions for which there is match in biosphere3. \n",
    "# It works but returns unrealistic results for the LCIA, I still have to figure out what the problem is\n",
    "# The emissions of 'Ammonia' and 'Indeno(1,2,3-cd)pyrene' return unrealistically low values."
   ]
  },
  {
   "cell_type": "code",
   "execution_count": null,
   "metadata": {},
   "outputs": [],
   "source": [
    "#Import mapping file to match Exiobase flows to BW2 ones.\n",
    "df_flow_map = pd.read_csv(\"list_biosphere_flows_BW2.csv\")\n",
    "def find_flow(row):\n",
    "    if row!=None:\n",
    "        try:\n",
    "            return df_flow_map.loc[df_flow_map[\"Exiobase name\"]==row, \"code\"].values[0]\n",
    "        except:\n",
    "            print(\"No match for {}.\".format(row))     \n",
    "Ext_emiss.iloc[:, 0] = Ext_emiss.iloc[:, 0].apply(find_flow)"
   ]
  },
  {
   "cell_type": "code",
   "execution_count": 30,
=======
   "execution_count": 106,
>>>>>>> b643664e8ad5a19f7dc490ded00592e319a411fa
   "metadata": {
    "scrolled": true
   },
   "outputs": [
    {
<<<<<<< HEAD
     "data": {
      "text/html": [
       "<div>\n",
       "<style scoped>\n",
       "    .dataframe tbody tr th:only-of-type {\n",
       "        vertical-align: middle;\n",
       "    }\n",
       "\n",
       "    .dataframe tbody tr th {\n",
       "        vertical-align: top;\n",
       "    }\n",
       "\n",
       "    .dataframe thead tr th {\n",
       "        text-align: left;\n",
       "    }\n",
       "</style>\n",
       "<table border=\"1\" class=\"dataframe\">\n",
       "  <thead>\n",
       "    <tr>\n",
       "      <th></th>\n",
       "      <th>AU-c01.a-P_PARI</th>\n",
       "      <th>AU-c01.b-P_WHEA</th>\n",
       "      <th>AU-c01.c-P_OCER</th>\n",
       "      <th>AU-c01.d-P_FVEG</th>\n",
       "      <th>AU-c01.e-P_OILS</th>\n",
       "      <th>AU-c01.f-P_SUGB</th>\n",
       "      <th>AU-c01.g-P_FIBR</th>\n",
       "      <th>AU-c01.h-P_OTCR</th>\n",
       "      <th>AU-c01.i-P_CATL</th>\n",
       "      <th>AU-c01.j-P_PIGS</th>\n",
       "      <th>...</th>\n",
       "      <th>WM-c90.5.b-P_LANP</th>\n",
       "      <th>WM-c90.5.c-P_LANL</th>\n",
       "      <th>WM-c90.5.d-P_LANI</th>\n",
       "      <th>WM-c90.5.e-P_LANT</th>\n",
       "      <th>WM-c90.5.f-P_LANW</th>\n",
       "      <th>WM-c91-P_ORGA</th>\n",
       "      <th>WM-c92-P_RECR</th>\n",
       "      <th>WM-c93-P_OSER</th>\n",
       "      <th>WM-c95-P_PRHH</th>\n",
       "      <th>WM-c99-P_EXTO</th>\n",
       "    </tr>\n",
       "  </thead>\n",
       "  <tbody>\n",
       "    <tr>\n",
       "      <th>aa7cac3a-3625-41d4-bc54-33e2cf11ec46</th>\n",
       "      <td>28333.4</td>\n",
       "      <td>1.64288e+06</td>\n",
       "      <td>399460</td>\n",
       "      <td>188343</td>\n",
       "      <td>72481.9</td>\n",
       "      <td>70129.7</td>\n",
       "      <td>129804</td>\n",
       "      <td>40717.9</td>\n",
       "      <td>2.85021e+06</td>\n",
       "      <td>5906.03</td>\n",
       "      <td>...</td>\n",
       "      <td>107.655</td>\n",
       "      <td>857.972</td>\n",
       "      <td>417.751</td>\n",
       "      <td>2976.82</td>\n",
       "      <td>18.7294</td>\n",
       "      <td>7.73808e+06</td>\n",
       "      <td>6.56843e+06</td>\n",
       "      <td>1.72631e+06</td>\n",
       "      <td>6.51238e+06</td>\n",
       "      <td>0</td>\n",
       "    </tr>\n",
       "    <tr>\n",
       "      <th>afd6d670-bbb0-4625-9730-04088a5b035e</th>\n",
       "      <td>44.0359</td>\n",
       "      <td>9494.75</td>\n",
       "      <td>3888.77</td>\n",
       "      <td>8401.16</td>\n",
       "      <td>465.883</td>\n",
       "      <td>1159.71</td>\n",
       "      <td>1166.56</td>\n",
       "      <td>3.02647</td>\n",
       "      <td>76262</td>\n",
       "      <td>400.721</td>\n",
       "      <td>...</td>\n",
       "      <td>0</td>\n",
       "      <td>0</td>\n",
       "      <td>0</td>\n",
       "      <td>0</td>\n",
       "      <td>0</td>\n",
       "      <td>0</td>\n",
       "      <td>0</td>\n",
       "      <td>0</td>\n",
       "      <td>0</td>\n",
       "      <td>0</td>\n",
       "    </tr>\n",
       "    <tr>\n",
       "      <th>70ef743b-3ed5-4a6d-b192-fb6d62378555</th>\n",
       "      <td>26526.8</td>\n",
       "      <td>151.077</td>\n",
       "      <td>121.413</td>\n",
       "      <td>56.9706</td>\n",
       "      <td>18.6846</td>\n",
       "      <td>6.71137</td>\n",
       "      <td>12.3297</td>\n",
       "      <td>6.79134</td>\n",
       "      <td>1.64257e+06</td>\n",
       "      <td>3470.59</td>\n",
       "      <td>...</td>\n",
       "      <td>7637.85</td>\n",
       "      <td>240.614</td>\n",
       "      <td>0.0156301</td>\n",
       "      <td>1017.53</td>\n",
       "      <td>216.28</td>\n",
       "      <td>0</td>\n",
       "      <td>0</td>\n",
       "      <td>0</td>\n",
       "      <td>0</td>\n",
       "      <td>0</td>\n",
       "    </tr>\n",
       "  </tbody>\n",
       "</table>\n",
       "<p>3 rows × 7872 columns</p>\n",
       "</div>"
      ],
      "text/plain": [
       "                                     AU-c01.a-P_PARI AU-c01.b-P_WHEA  \\\n",
       "aa7cac3a-3625-41d4-bc54-33e2cf11ec46         28333.4     1.64288e+06   \n",
       "afd6d670-bbb0-4625-9730-04088a5b035e         44.0359         9494.75   \n",
       "70ef743b-3ed5-4a6d-b192-fb6d62378555         26526.8         151.077   \n",
       "\n",
       "                                     AU-c01.c-P_OCER AU-c01.d-P_FVEG  \\\n",
       "aa7cac3a-3625-41d4-bc54-33e2cf11ec46          399460          188343   \n",
       "afd6d670-bbb0-4625-9730-04088a5b035e         3888.77         8401.16   \n",
       "70ef743b-3ed5-4a6d-b192-fb6d62378555         121.413         56.9706   \n",
       "\n",
       "                                     AU-c01.e-P_OILS AU-c01.f-P_SUGB  \\\n",
       "aa7cac3a-3625-41d4-bc54-33e2cf11ec46         72481.9         70129.7   \n",
       "afd6d670-bbb0-4625-9730-04088a5b035e         465.883         1159.71   \n",
       "70ef743b-3ed5-4a6d-b192-fb6d62378555         18.6846         6.71137   \n",
       "\n",
       "                                     AU-c01.g-P_FIBR AU-c01.h-P_OTCR  \\\n",
       "aa7cac3a-3625-41d4-bc54-33e2cf11ec46          129804         40717.9   \n",
       "afd6d670-bbb0-4625-9730-04088a5b035e         1166.56         3.02647   \n",
       "70ef743b-3ed5-4a6d-b192-fb6d62378555         12.3297         6.79134   \n",
       "\n",
       "                                     AU-c01.i-P_CATL AU-c01.j-P_PIGS  \\\n",
       "aa7cac3a-3625-41d4-bc54-33e2cf11ec46     2.85021e+06         5906.03   \n",
       "afd6d670-bbb0-4625-9730-04088a5b035e           76262         400.721   \n",
       "70ef743b-3ed5-4a6d-b192-fb6d62378555     1.64257e+06         3470.59   \n",
       "\n",
       "                                          ...      WM-c90.5.b-P_LANP  \\\n",
       "aa7cac3a-3625-41d4-bc54-33e2cf11ec46      ...                107.655   \n",
       "afd6d670-bbb0-4625-9730-04088a5b035e      ...                      0   \n",
       "70ef743b-3ed5-4a6d-b192-fb6d62378555      ...                7637.85   \n",
       "\n",
       "                                     WM-c90.5.c-P_LANL WM-c90.5.d-P_LANI  \\\n",
       "aa7cac3a-3625-41d4-bc54-33e2cf11ec46           857.972           417.751   \n",
       "afd6d670-bbb0-4625-9730-04088a5b035e                 0                 0   \n",
       "70ef743b-3ed5-4a6d-b192-fb6d62378555           240.614         0.0156301   \n",
       "\n",
       "                                     WM-c90.5.e-P_LANT WM-c90.5.f-P_LANW  \\\n",
       "aa7cac3a-3625-41d4-bc54-33e2cf11ec46           2976.82           18.7294   \n",
       "afd6d670-bbb0-4625-9730-04088a5b035e                 0                 0   \n",
       "70ef743b-3ed5-4a6d-b192-fb6d62378555           1017.53            216.28   \n",
       "\n",
       "                                     WM-c91-P_ORGA WM-c92-P_RECR  \\\n",
       "aa7cac3a-3625-41d4-bc54-33e2cf11ec46   7.73808e+06   6.56843e+06   \n",
       "afd6d670-bbb0-4625-9730-04088a5b035e             0             0   \n",
       "70ef743b-3ed5-4a6d-b192-fb6d62378555             0             0   \n",
       "\n",
       "                                     WM-c93-P_OSER WM-c95-P_PRHH WM-c99-P_EXTO  \n",
       "aa7cac3a-3625-41d4-bc54-33e2cf11ec46   1.72631e+06   6.51238e+06             0  \n",
       "afd6d670-bbb0-4625-9730-04088a5b035e             0             0             0  \n",
       "70ef743b-3ed5-4a6d-b192-fb6d62378555             0             0             0  \n",
       "\n",
       "[3 rows x 7872 columns]"
      ]
     },
     "execution_count": 30,
     "metadata": {},
     "output_type": "execute_result"
=======
     "ename": "NameError",
     "evalue": "name 'exio_IDs' is not defined",
     "output_type": "error",
     "traceback": [
      "\u001b[1;31m---------------------------------------------------------------------------\u001b[0m",
      "\u001b[1;31mNameError\u001b[0m                                 Traceback (most recent call last)",
      "\u001b[1;32m<ipython-input-106-99f3421ed7b9>\u001b[0m in \u001b[0;36m<module>\u001b[1;34m()\u001b[0m\n\u001b[0;32m      2\u001b[0m \u001b[0mExt_emiss_s\u001b[0m \u001b[1;33m=\u001b[0m \u001b[0mExt_emiss\u001b[0m\u001b[1;33m[\u001b[0m\u001b[1;33m~\u001b[0m\u001b[0mExt_emiss\u001b[0m\u001b[1;33m.\u001b[0m\u001b[0miloc\u001b[0m\u001b[1;33m[\u001b[0m\u001b[1;33m:\u001b[0m\u001b[1;33m,\u001b[0m \u001b[1;36m0\u001b[0m\u001b[1;33m]\u001b[0m\u001b[1;33m.\u001b[0m\u001b[0misnull\u001b[0m\u001b[1;33m(\u001b[0m\u001b[1;33m)\u001b[0m\u001b[1;33m]\u001b[0m\u001b[1;33m\u001b[0m\u001b[0m\n\u001b[0;32m      3\u001b[0m \u001b[0mExt_emiss_s\u001b[0m\u001b[1;33m.\u001b[0m\u001b[0mset_index\u001b[0m\u001b[1;33m(\u001b[0m\u001b[1;36m0\u001b[0m\u001b[1;33m)\u001b[0m\u001b[1;33m\u001b[0m\u001b[0m\n\u001b[1;32m----> 4\u001b[1;33m \u001b[0mExt_emiss_s\u001b[0m\u001b[1;33m.\u001b[0m\u001b[0mcolumns\u001b[0m \u001b[1;33m=\u001b[0m \u001b[1;33m[\u001b[0m\u001b[0mexio_IDs\u001b[0m\u001b[1;33m]\u001b[0m\u001b[1;33m\u001b[0m\u001b[0m\n\u001b[0m\u001b[0;32m      5\u001b[0m \u001b[1;31m#Ext_emiss_s.index = list(emission_codes.values())\u001b[0m\u001b[1;33m\u001b[0m\u001b[1;33m\u001b[0m\u001b[0m\n\u001b[0;32m      6\u001b[0m \u001b[0mExt_emiss_s\u001b[0m\u001b[1;33m.\u001b[0m\u001b[0mhead\u001b[0m\u001b[1;33m(\u001b[0m\u001b[1;33m)\u001b[0m\u001b[1;33m\u001b[0m\u001b[0m\n",
      "\u001b[1;31mNameError\u001b[0m: name 'exio_IDs' is not defined"
     ]
>>>>>>> b643664e8ad5a19f7dc490ded00592e319a411fa
    }
   ],
   "source": [
    "# Again some formatting necessary for the next step\n",
<<<<<<< HEAD
    "Ext_emiss_s0 = Ext_emiss[~Ext_emiss.iloc[:, 0].isnull()]\n",
    "Ext_emiss_s = Ext_emiss_s0.iloc[:,3:]\n",
    "Ext_emiss_s.columns = [exio_IDs]\n",
    "Ext_emiss_s.index = list(Ext_emiss_s0.iloc[:,0].values)\n",
=======
    "Ext_emiss_s = Ext_emiss[~Ext_emiss.iloc[:, 0].isnull()]\n",
    "Ext_emiss_s.set_index(0)\n",
    "Ext_emiss_s.columns = [exio_IDs]\n",
    "#Ext_emiss_s.index = list(emission_codes.values())\n",
>>>>>>> b643664e8ad5a19f7dc490ded00592e319a411fa
    "Ext_emiss_s.head()"
   ]
  },
  {
   "cell_type": "code",
<<<<<<< HEAD
   "execution_count": null,
=======
   "execution_count": 32,
>>>>>>> b643664e8ad5a19f7dc490ded00592e319a411fa
   "metadata": {},
   "outputs": [],
   "source": [
    "# Add biosphere3 flows to the database\n",
    "for act in exio3:\n",
<<<<<<< HEAD
    "    mydf = Ext_emiss_s[act['code']][Ext_emiss_s[act['code']] != 0].dropna()\n",
    "    for i in range(mydf.shape[0]):\n",
    "        #print(i)\n",
    "        exc = act.new_exchange(input = ('biosphere3', mydf.index[i]), amount = float(mydf.iloc[i].values)*1000, type = 'biosphere')\n",
=======
    "    for i in range(Ext_emiss_s[act['code']].shape[0]):\n",
    "        exc = act.new_exchange(input = ('biosphere3', Ext_emiss_s[act['code']].index[i]), amount = float(Ext_emiss_s[act['code']].iloc[i].values)*1000, type = 'biosphere')\n",
>>>>>>> b643664e8ad5a19f7dc490ded00592e319a411fa
    "        exc.save()"
   ]
  },
  {
   "cell_type": "code",
<<<<<<< HEAD
   "execution_count": null,
   "metadata": {},
   "outputs": [],
   "source": [
    "# end of method 2"
   ]
  },
  {
   "cell_type": "code",
=======
>>>>>>> b643664e8ad5a19f7dc490ded00592e319a411fa
   "execution_count": 334,
   "metadata": {},
   "outputs": [
    {
     "name": "stdout",
     "output_type": "stream",
     "text": [
      "Exchange: 2850213222.8075724 kilogram 'Carbon dioxide, fossil' (kilogram, None, ('air', 'non-urban air or from high stacks')) to 'Cattle farming' (tonnes, AU, None)>\n",
      "Exchange: 76262009.76250708 kilogram 'Dinitrogen monoxide' (kilogram, None, ('air', 'non-urban air or from high stacks')) to 'Cattle farming' (tonnes, AU, None)>\n",
      "Exchange: 1642572105.724754 kilogram 'Methane, fossil' (kilogram, None, ('air', 'non-urban air or from high stacks')) to 'Cattle farming' (tonnes, AU, None)>\n"
     ]
    }
   ],
   "source": [
    "# check if it's alright\n",
    "myact = exio3.get('AU-c01.i-P_CATL')\n",
    "for exc in list(myact.exchanges()):\n",
    "    if exc['type'] == 'biosphere':\n",
    "        print(exc)\n",
    "# Seems alright"
   ]
  },
  {
   "cell_type": "code",
   "execution_count": 34,
   "metadata": {},
   "outputs": [],
   "source": [
    "# now try some calculations\n",
    "functional_unit = {exio3.get('AU-c01.i-P_CATL'): 1}\n",
    "mymethod = ('IPCC 2013', 'climate change', 'GWP 100a')\n",
    "lca = LCA(functional_unit, mymethod)\n",
    "lca.lci()\n",
    "lca.lcia()"
   ]
  },
  {
   "cell_type": "code",
   "execution_count": 35,
   "metadata": {},
   "outputs": [
    {
     "name": "stdout",
     "output_type": "stream",
     "text": [
      "67388.62554120537\n"
     ]
    }
   ],
   "source": [
    "print(lca.score)"
   ]
  },
  {
   "cell_type": "code",
   "execution_count": 36,
   "metadata": {},
   "outputs": [
    {
     "data": {
      "text/plain": [
       "4778.508129092075"
      ]
     },
     "execution_count": 36,
     "metadata": {},
     "output_type": "execute_result"
    }
   ],
   "source": [
    "inventory = pd.DataFrame(lca.inventory.toarray())\n",
<<<<<<< HEAD
    "\n",
    "#use this if you imported only 3 emissions (method 1)\n",
    "#sum(inventory.iloc[0,:].values) # 4.7 tons of CO2 emissions for 1 ton of cattle farming in Australia\n",
    "\n",
    "sum(inventory.iloc[3,:].values) # 4.7 tons of CO2 emissions for 1 ton of cattle farming in Australia"
=======
    "sum(inventory.iloc[0,:].values) # 4.7 tons of CO2 emissions for 1 ton of cattle farming in Australia"
>>>>>>> b643664e8ad5a19f7dc490ded00592e319a411fa
   ]
  },
  {
   "cell_type": "code",
   "execution_count": 37,
   "metadata": {},
   "outputs": [],
   "source": [
    "# end"
   ]
  }
 ],
 "metadata": {
  "kernelspec": {
   "display_name": "Python 3",
   "language": "python",
   "name": "python3"
  },
  "language_info": {
   "codemirror_mode": {
    "name": "ipython",
    "version": 3
   },
   "file_extension": ".py",
   "mimetype": "text/x-python",
   "name": "python",
   "nbconvert_exporter": "python",
   "pygments_lexer": "ipython3",
<<<<<<< HEAD
   "version": "3.7.0"
=======
   "version": "3.6.3"
>>>>>>> b643664e8ad5a19f7dc490ded00592e319a411fa
  }
 },
 "nbformat": 4,
 "nbformat_minor": 2
}
